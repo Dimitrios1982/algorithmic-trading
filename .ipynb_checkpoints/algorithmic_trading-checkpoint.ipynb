{
 "cells": [
  {
   "cell_type": "code",
   "execution_count": 1,
   "id": "311b06b5-2ad6-4901-ab47-c30ae6a7ab6b",
   "metadata": {},
   "outputs": [],
   "source": [
    "from statsmodels.regression.rolling import RollingOLS \n",
    "import  pandas as pd\n",
    "import  numpy as np\n",
    "import  matplotlib.pyplot as plt\n",
    "import  statsmodels.api as sm\n",
    "import  pandas_datareader.data as web\n",
    "import  datetime as dt\n",
    "import  yfinance as yf\n",
    "import  pandas_ta\n",
    "import  warnings\n",
    "warnings.filterwarnings(\"ignore\")"
   ]
  },
  {
   "cell_type": "code",
   "execution_count": 3,
   "id": "67326f99-bbd1-43ab-8950-5f8d402f5a83",
   "metadata": {},
   "outputs": [
    {
     "name": "stderr",
     "output_type": "stream",
     "text": [
      "[*********************100%%**********************]  503 of 503 completed\n",
      "\n",
      "2 Failed downloads:\n",
      "['VLTO', 'KVUE']: Exception(\"%ticker%: Data doesn't exist for startDate = 1422075600, endDate = 1674363600\")\n"
     ]
    },
    {
     "name": "stdout",
     "output_type": "stream",
     "text": [
      "Price              Adj Close      Close       High        Low       Open  \\\n",
      "Date       Ticker                                                          \n",
      "2015-01-26 A       36.304661  39.150002  39.169998  38.470001  38.790001   \n",
      "           AAL     52.539070  55.450001  56.200001  54.730000  55.889999   \n",
      "           AAPL    25.277866  28.275000  28.590000  28.200001  28.434999   \n",
      "           ABBV    42.971260  62.830002  63.040001  61.680000  62.259998   \n",
      "           ABT     37.234200  44.150002  44.200001  43.419998  43.740002   \n",
      "\n",
      "Price                   Volume  \n",
      "Date       Ticker               \n",
      "2015-01-26 A         1510900.0  \n",
      "           AAL      13353900.0  \n",
      "           AAPL    222460000.0  \n",
      "           ABBV      8181100.0  \n",
      "           ABT       4376200.0  \n"
     ]
    }
   ],
   "source": [
    "sp500 = pd.read_html('https://en.wikipedia.org/wiki/List_of_S%26P_500_companies')\n",
    "sp500[0]['Symbol'] = sp500[0]['Symbol'].str.replace('.', '-')\n",
    "sp500_list = sp500[0]['Symbol'].unique().tolist()\n",
    "\n",
    "end_date = '2023-01-22'\n",
    "start_date = pd.to_datetime(end_date) - pd.DateOffset(365*8)\n",
    "df = yf.download(tickers=sp500_list, start=start_date, end=end_date).stack()\n",
    "print(df.head(5))"
   ]
  },
  {
   "cell_type": "code",
   "execution_count": 4,
   "id": "e49057fd-81de-40c5-8f90-ae4633d4d8ac",
   "metadata": {},
   "outputs": [
    {
     "data": {
      "text/html": [
       "<div>\n",
       "<style scoped>\n",
       "    .dataframe tbody tr th:only-of-type {\n",
       "        vertical-align: middle;\n",
       "    }\n",
       "\n",
       "    .dataframe tbody tr th {\n",
       "        vertical-align: top;\n",
       "    }\n",
       "\n",
       "    .dataframe thead th {\n",
       "        text-align: right;\n",
       "    }\n",
       "</style>\n",
       "<table border=\"1\" class=\"dataframe\">\n",
       "  <thead>\n",
       "    <tr style=\"text-align: right;\">\n",
       "      <th></th>\n",
       "      <th></th>\n",
       "      <th>adj close</th>\n",
       "      <th>close</th>\n",
       "      <th>high</th>\n",
       "      <th>low</th>\n",
       "      <th>open</th>\n",
       "      <th>volume</th>\n",
       "    </tr>\n",
       "    <tr>\n",
       "      <th>date</th>\n",
       "      <th>ticker</th>\n",
       "      <th></th>\n",
       "      <th></th>\n",
       "      <th></th>\n",
       "      <th></th>\n",
       "      <th></th>\n",
       "      <th></th>\n",
       "    </tr>\n",
       "  </thead>\n",
       "  <tbody>\n",
       "    <tr>\n",
       "      <th rowspan=\"5\" valign=\"top\">2015-01-26</th>\n",
       "      <th>A</th>\n",
       "      <td>36.304661</td>\n",
       "      <td>39.150002</td>\n",
       "      <td>39.169998</td>\n",
       "      <td>38.470001</td>\n",
       "      <td>38.790001</td>\n",
       "      <td>1510900.0</td>\n",
       "    </tr>\n",
       "    <tr>\n",
       "      <th>AAL</th>\n",
       "      <td>52.539070</td>\n",
       "      <td>55.450001</td>\n",
       "      <td>56.200001</td>\n",
       "      <td>54.730000</td>\n",
       "      <td>55.889999</td>\n",
       "      <td>13353900.0</td>\n",
       "    </tr>\n",
       "    <tr>\n",
       "      <th>AAPL</th>\n",
       "      <td>25.277866</td>\n",
       "      <td>28.275000</td>\n",
       "      <td>28.590000</td>\n",
       "      <td>28.200001</td>\n",
       "      <td>28.434999</td>\n",
       "      <td>222460000.0</td>\n",
       "    </tr>\n",
       "    <tr>\n",
       "      <th>ABBV</th>\n",
       "      <td>42.971260</td>\n",
       "      <td>62.830002</td>\n",
       "      <td>63.040001</td>\n",
       "      <td>61.680000</td>\n",
       "      <td>62.259998</td>\n",
       "      <td>8181100.0</td>\n",
       "    </tr>\n",
       "    <tr>\n",
       "      <th>ABT</th>\n",
       "      <td>37.234200</td>\n",
       "      <td>44.150002</td>\n",
       "      <td>44.200001</td>\n",
       "      <td>43.419998</td>\n",
       "      <td>43.740002</td>\n",
       "      <td>4376200.0</td>\n",
       "    </tr>\n",
       "  </tbody>\n",
       "</table>\n",
       "</div>"
      ],
      "text/plain": [
       "                   adj close      close       high        low       open  \\\n",
       "date       ticker                                                          \n",
       "2015-01-26 A       36.304661  39.150002  39.169998  38.470001  38.790001   \n",
       "           AAL     52.539070  55.450001  56.200001  54.730000  55.889999   \n",
       "           AAPL    25.277866  28.275000  28.590000  28.200001  28.434999   \n",
       "           ABBV    42.971260  62.830002  63.040001  61.680000  62.259998   \n",
       "           ABT     37.234200  44.150002  44.200001  43.419998  43.740002   \n",
       "\n",
       "                        volume  \n",
       "date       ticker               \n",
       "2015-01-26 A         1510900.0  \n",
       "           AAL      13353900.0  \n",
       "           AAPL    222460000.0  \n",
       "           ABBV      8181100.0  \n",
       "           ABT       4376200.0  "
      ]
     },
     "execution_count": 4,
     "metadata": {},
     "output_type": "execute_result"
    }
   ],
   "source": [
    "df.columns = ['adj close', 'close', 'high', 'low', 'open', 'volume']  \n",
    "df.index.names = ['date', 'ticker']\n",
    "df.head(5)"
   ]
  },
  {
   "cell_type": "code",
   "execution_count": 5,
   "id": "32405395-9824-4a39-8c3c-773f32f52318",
   "metadata": {},
   "outputs": [],
   "source": [
    "df['garman_klass_vol'] = ((np.log(df['high'])-np.log(df['low']))**2)/2-(2*np.log(2)-1)*((np.log(df['adj close'])-np.log(df['open']))**2)\n",
    "\n",
    "df['rsi'] = df.groupby(level=1)['adj close'].transform(lambda x: pandas_ta.rsi(close=x, length=20))\n",
    "\n",
    "df['bb_low'] = df.groupby(level=1)['adj close'].transform(lambda x: pandas_ta.bbands(close=np.log1p(x), length=20).iloc[:,0])\n",
    "                                                          \n",
    "df['bb_mid'] = df.groupby(level=1)['adj close'].transform(lambda x: pandas_ta.bbands(close=np.log1p(x), length=20).iloc[:,1])\n",
    "                                                          \n",
    "df['bb_high'] = df.groupby(level=1)['adj close'].transform(lambda x: pandas_ta.bbands(close=np.log1p(x), length=20).iloc[:,2])\n"
   ]
  },
  {
   "cell_type": "code",
   "execution_count": 6,
   "id": "1dfa7a9a-6248-4023-bd5b-fa58f5e97882",
   "metadata": {},
   "outputs": [
    {
     "data": {
      "text/plain": [
       "date        ticker\n",
       "2015-01-26  A          39.150002\n",
       "            AAL        55.450001\n",
       "            AAPL       28.275000\n",
       "            ABBV       62.830002\n",
       "            ABT        44.150002\n",
       "                         ...    \n",
       "2023-01-20  YUM       126.629997\n",
       "            ZBH       124.089996\n",
       "            ZBRA      297.029999\n",
       "            ZION       51.480000\n",
       "            ZTS       163.809998\n",
       "Name: close, Length: 989448, dtype: float64"
      ]
     },
     "execution_count": 6,
     "metadata": {},
     "output_type": "execute_result"
    }
   ],
   "source": [
    "df['close'].dropna()"
   ]
  },
  {
   "cell_type": "code",
   "execution_count": 7,
   "id": "1abbe3e2-d9c8-4a3d-8e79-650b28297534",
   "metadata": {},
   "outputs": [],
   "source": [
    "def compute_atr(stock_data):\n",
    "    atr = pandas_ta.atr(high=stock_data['high'],\n",
    "                        low=stock_data['low'],\n",
    "                        close=stock_data['close'],\n",
    "                        length=14)\n",
    "    return atr.sub(atr.mean()).div(atr.std())\n",
    "\n",
    "df['atr'] = df.groupby(level=1, group_keys=False).apply(compute_atr)\n",
    "\n",
    "def compute_macd(close):\n",
    "    macd_result = pandas_ta.macd(close=close, length=20)\n",
    "    \n",
    "    if macd_result is not None:\n",
    "        macd = macd_result.iloc[:, 0]\n",
    "        return macd.sub(macd.mean()).div(macd.std())\n",
    "    else:\n",
    "        # Handle the case where macd_result is None\n",
    "        return None\n",
    "\n",
    "df['macd'] = df.groupby(level=1, group_keys=False)['adj close'].apply(compute_macd)\n",
    "\n",
    "mean_volume = np.mean(df['volume'])\n",
    "df['dollar_volume'] = (df['close'] * df['volume'] / mean_volume).astype(int)\n"
   ]
  },
  {
   "cell_type": "code",
   "execution_count": 8,
   "id": "889d0379-6b01-4148-a1d0-ee187cf24361",
   "metadata": {},
   "outputs": [
    {
     "data": {
      "text/plain": [
       "date        ticker\n",
       "2015-01-26  A           11\n",
       "            AAL        142\n",
       "            AAPL      1211\n",
       "            ABBV        99\n",
       "            ABT         37\n",
       "                      ... \n",
       "2023-01-20  YUM         40\n",
       "            ZBH         41\n",
       "            ZBRA        17\n",
       "            ZION        24\n",
       "            ZTS        153\n",
       "Name: dollar_volume, Length: 989448, dtype: int32"
      ]
     },
     "execution_count": 8,
     "metadata": {},
     "output_type": "execute_result"
    }
   ],
   "source": [
    "df['dollar_volume']"
   ]
  },
  {
   "cell_type": "markdown",
   "id": "d208d67c-8d68-4dd4-b2aa-2b16068e9675",
   "metadata": {},
   "source": [
    "# 3 Aggregate to monthly level and filter top 150 most liquid stocks each month"
   ]
  },
  {
   "cell_type": "code",
   "execution_count": 17,
   "id": "c5c3b816-6b10-4419-957c-b434450bfb2a",
   "metadata": {},
   "outputs": [],
   "source": [
    "last_cols = [c for c in df.columns.unique(0) if c not in ['open', 'dollar_volume', 'close', 'high', 'open', 'low']]\n",
    "data = (pd.concat([df.unstack('ticker')['dollar_volume'].resample('M').mean().stack('ticker').to_frame('dollar_volume'),\n",
    "            df.unstack()[last_cols].resample('M').last().stack('ticker')],\n",
    "         axis=1)).dropna()"
   ]
  },
  {
   "cell_type": "code",
   "execution_count": 18,
   "id": "df00a3b3-689a-42d4-a684-bfec25d76cc5",
   "metadata": {},
   "outputs": [
    {
     "data": {
      "text/plain": [
       "<bound method NDFrame.head of                    dollar_volume   adj close       volume  garman_klass_vol  \\\n",
       "date       ticker                                                             \n",
       "2015-03-31 A           15.863636   38.625149    1659200.0         -0.001572   \n",
       "           AAL        184.136364   50.110550    8386400.0         -0.001614   \n",
       "           AAPL      1254.863636   27.919874  168362400.0         -0.005545   \n",
       "           ABBV       148.545455   40.037205   12313600.0         -0.052936   \n",
       "           ABT         46.181818   39.072708    5358100.0         -0.012572   \n",
       "...                          ...         ...          ...               ...   \n",
       "2023-01-31 CTVA        31.307692   61.447723    2570800.0          0.000140   \n",
       "           CARR        31.769231   41.909531    5217500.0          0.000213   \n",
       "           OTIS        28.307692   79.263435    1787600.0          0.000184   \n",
       "           ABNB        96.307692  101.279999    5104000.0          0.000335   \n",
       "           CEG         31.461538   82.001198    1795100.0          0.000480   \n",
       "\n",
       "                         rsi    bb_low    bb_mid   bb_high       atr      macd  \n",
       "date       ticker                                                               \n",
       "2015-03-31 A       54.030486  3.650397  3.676227  3.702057 -0.990039 -0.111352  \n",
       "           AAL     53.827805  3.795229  3.903672  4.012115  1.095515  1.276980  \n",
       "           AAPL    50.165581  3.346521  3.373823  3.401124 -0.779639 -0.170224  \n",
       "           ABBV    47.505606  3.655086  3.711026  3.766965 -0.823766 -0.337969  \n",
       "           ABT     48.622136  3.684960  3.703916  3.722871 -0.968697 -0.094050  \n",
       "...                      ...       ...       ...       ...       ...       ...  \n",
       "2023-01-31 CTVA    52.320157  4.056442  4.105475  4.154508  0.273310 -0.215198  \n",
       "           CARR    49.635902  3.697118  3.764952  3.832786 -0.231639  0.089192  \n",
       "           OTIS    54.838167  4.336087  4.379509  4.422930 -0.611123  0.506569  \n",
       "           ABNB    58.485300  4.375796  4.517925  4.660053 -1.327969  0.557919  \n",
       "           CEG     42.956297  4.383836  4.438070  4.492304 -1.467063 -1.608047  \n",
       "\n",
       "[46721 rows x 10 columns]>"
      ]
     },
     "execution_count": 18,
     "metadata": {},
     "output_type": "execute_result"
    }
   ],
   "source": [
    "data.head"
   ]
  },
  {
   "cell_type": "markdown",
   "id": "eed5ea07-baf9-4cff-bf82-85a76e42bb7b",
   "metadata": {},
   "source": [
    "* Calculate a 5-year rolling averageof dollar volume for each stock before filtering"
   ]
  },
  {
   "cell_type": "code",
   "execution_count": 31,
   "id": "943c0ba0-4d6b-4409-8fe7-8edc862986c8",
   "metadata": {},
   "outputs": [
    {
     "ename": "KeyError",
     "evalue": "'dollar_vol_rank'",
     "output_type": "error",
     "traceback": [
      "\u001b[1;31m---------------------------------------------------------------------------\u001b[0m",
      "\u001b[1;31mKeyError\u001b[0m                                  Traceback (most recent call last)",
      "File \u001b[1;32mC:\\algorithmic-trading\\venv\\lib\\site-packages\\pandas\\core\\indexes\\base.py:3802\u001b[0m, in \u001b[0;36mIndex.get_loc\u001b[1;34m(self, key)\u001b[0m\n\u001b[0;32m   3801\u001b[0m \u001b[38;5;28;01mtry\u001b[39;00m:\n\u001b[1;32m-> 3802\u001b[0m     \u001b[38;5;28;01mreturn\u001b[39;00m \u001b[38;5;28;43mself\u001b[39;49m\u001b[38;5;241;43m.\u001b[39;49m\u001b[43m_engine\u001b[49m\u001b[38;5;241;43m.\u001b[39;49m\u001b[43mget_loc\u001b[49m\u001b[43m(\u001b[49m\u001b[43mcasted_key\u001b[49m\u001b[43m)\u001b[49m\n\u001b[0;32m   3803\u001b[0m \u001b[38;5;28;01mexcept\u001b[39;00m \u001b[38;5;167;01mKeyError\u001b[39;00m \u001b[38;5;28;01mas\u001b[39;00m err:\n",
      "File \u001b[1;32mindex.pyx:153\u001b[0m, in \u001b[0;36mpandas._libs.index.IndexEngine.get_loc\u001b[1;34m()\u001b[0m\n",
      "File \u001b[1;32mindex.pyx:182\u001b[0m, in \u001b[0;36mpandas._libs.index.IndexEngine.get_loc\u001b[1;34m()\u001b[0m\n",
      "File \u001b[1;32mpandas\\\\_libs\\\\hashtable_class_helper.pxi:7081\u001b[0m, in \u001b[0;36mpandas._libs.hashtable.PyObjectHashTable.get_item\u001b[1;34m()\u001b[0m\n",
      "File \u001b[1;32mpandas\\\\_libs\\\\hashtable_class_helper.pxi:7089\u001b[0m, in \u001b[0;36mpandas._libs.hashtable.PyObjectHashTable.get_item\u001b[1;34m()\u001b[0m\n",
      "\u001b[1;31mKeyError\u001b[0m: 'dollar_vol_rank'",
      "\nThe above exception was the direct cause of the following exception:\n",
      "\u001b[1;31mKeyError\u001b[0m                                  Traceback (most recent call last)",
      "Cell \u001b[1;32mIn[31], line 3\u001b[0m\n\u001b[0;32m      1\u001b[0m data[\u001b[38;5;124m'\u001b[39m\u001b[38;5;124mdollar_volume\u001b[39m\u001b[38;5;124m'\u001b[39m] \u001b[38;5;241m=\u001b[39m (data[\u001b[38;5;124m'\u001b[39m\u001b[38;5;124mdollar_volume\u001b[39m\u001b[38;5;124m'\u001b[39m]\u001b[38;5;241m.\u001b[39munstack(\u001b[38;5;124m'\u001b[39m\u001b[38;5;124mticker\u001b[39m\u001b[38;5;124m'\u001b[39m)\u001b[38;5;241m.\u001b[39mrolling(\u001b[38;5;241m5\u001b[39m\u001b[38;5;241m*\u001b[39m\u001b[38;5;241m12\u001b[39m)\u001b[38;5;241m.\u001b[39mmean())\u001b[38;5;241m.\u001b[39mstack()\n\u001b[0;32m      2\u001b[0m data[\u001b[38;5;124m'\u001b[39m\u001b[38;5;124mdollar_volume\u001b[39m\u001b[38;5;124m'\u001b[39m] \u001b[38;5;241m=\u001b[39m (data\u001b[38;5;241m.\u001b[39mgroupby(\u001b[38;5;124m'\u001b[39m\u001b[38;5;124mdate\u001b[39m\u001b[38;5;124m'\u001b[39m)[\u001b[38;5;124m'\u001b[39m\u001b[38;5;124mdollar_volume\u001b[39m\u001b[38;5;124m'\u001b[39m]\u001b[38;5;241m.\u001b[39mrank(ascending\u001b[38;5;241m=\u001b[39m\u001b[38;5;28;01mFalse\u001b[39;00m))\n\u001b[1;32m----> 3\u001b[0m data \u001b[38;5;241m=\u001b[39m data[\u001b[43mdata\u001b[49m\u001b[43m[\u001b[49m\u001b[38;5;124;43m'\u001b[39;49m\u001b[38;5;124;43mdollar_vol_rank\u001b[39;49m\u001b[38;5;124;43m'\u001b[39;49m\u001b[43m]\u001b[49m\u001b[38;5;241m<\u001b[39m\u001b[38;5;241m150\u001b[39m]\u001b[38;5;241m.\u001b[39mdrop([\u001b[38;5;124m'\u001b[39m\u001b[38;5;124mdollar_volume\u001b[39m\u001b[38;5;124m'\u001b[39m, \u001b[38;5;124m'\u001b[39m\u001b[38;5;124mdollar_vol_rank\u001b[39m\u001b[38;5;124m'\u001b[39m], axis\u001b[38;5;241m=\u001b[39m\u001b[38;5;241m1\u001b[39m)\n",
      "File \u001b[1;32mC:\\algorithmic-trading\\venv\\lib\\site-packages\\pandas\\core\\frame.py:4090\u001b[0m, in \u001b[0;36mDataFrame.__getitem__\u001b[1;34m(self, key)\u001b[0m\n\u001b[0;32m   4088\u001b[0m \u001b[38;5;28;01mif\u001b[39;00m \u001b[38;5;28mself\u001b[39m\u001b[38;5;241m.\u001b[39mcolumns\u001b[38;5;241m.\u001b[39mnlevels \u001b[38;5;241m>\u001b[39m \u001b[38;5;241m1\u001b[39m:\n\u001b[0;32m   4089\u001b[0m     \u001b[38;5;28;01mreturn\u001b[39;00m \u001b[38;5;28mself\u001b[39m\u001b[38;5;241m.\u001b[39m_getitem_multilevel(key)\n\u001b[1;32m-> 4090\u001b[0m indexer \u001b[38;5;241m=\u001b[39m \u001b[38;5;28;43mself\u001b[39;49m\u001b[38;5;241;43m.\u001b[39;49m\u001b[43mcolumns\u001b[49m\u001b[38;5;241;43m.\u001b[39;49m\u001b[43mget_loc\u001b[49m\u001b[43m(\u001b[49m\u001b[43mkey\u001b[49m\u001b[43m)\u001b[49m\n\u001b[0;32m   4091\u001b[0m \u001b[38;5;28;01mif\u001b[39;00m is_integer(indexer):\n\u001b[0;32m   4092\u001b[0m     indexer \u001b[38;5;241m=\u001b[39m [indexer]\n",
      "File \u001b[1;32mC:\\algorithmic-trading\\venv\\lib\\site-packages\\pandas\\core\\indexes\\base.py:3809\u001b[0m, in \u001b[0;36mIndex.get_loc\u001b[1;34m(self, key)\u001b[0m\n\u001b[0;32m   3804\u001b[0m     \u001b[38;5;28;01mif\u001b[39;00m \u001b[38;5;28misinstance\u001b[39m(casted_key, \u001b[38;5;28mslice\u001b[39m) \u001b[38;5;129;01mor\u001b[39;00m (\n\u001b[0;32m   3805\u001b[0m         \u001b[38;5;28misinstance\u001b[39m(casted_key, abc\u001b[38;5;241m.\u001b[39mIterable)\n\u001b[0;32m   3806\u001b[0m         \u001b[38;5;129;01mand\u001b[39;00m \u001b[38;5;28many\u001b[39m(\u001b[38;5;28misinstance\u001b[39m(x, \u001b[38;5;28mslice\u001b[39m) \u001b[38;5;28;01mfor\u001b[39;00m x \u001b[38;5;129;01min\u001b[39;00m casted_key)\n\u001b[0;32m   3807\u001b[0m     ):\n\u001b[0;32m   3808\u001b[0m         \u001b[38;5;28;01mraise\u001b[39;00m InvalidIndexError(key)\n\u001b[1;32m-> 3809\u001b[0m     \u001b[38;5;28;01mraise\u001b[39;00m \u001b[38;5;167;01mKeyError\u001b[39;00m(key) \u001b[38;5;28;01mfrom\u001b[39;00m \u001b[38;5;21;01merr\u001b[39;00m\n\u001b[0;32m   3810\u001b[0m \u001b[38;5;28;01mexcept\u001b[39;00m \u001b[38;5;167;01mTypeError\u001b[39;00m:\n\u001b[0;32m   3811\u001b[0m     \u001b[38;5;66;03m# If we have a listlike key, _check_indexing_error will raise\u001b[39;00m\n\u001b[0;32m   3812\u001b[0m     \u001b[38;5;66;03m#  InvalidIndexError. Otherwise we fall through and re-raise\u001b[39;00m\n\u001b[0;32m   3813\u001b[0m     \u001b[38;5;66;03m#  the TypeError.\u001b[39;00m\n\u001b[0;32m   3814\u001b[0m     \u001b[38;5;28mself\u001b[39m\u001b[38;5;241m.\u001b[39m_check_indexing_error(key)\n",
      "\u001b[1;31mKeyError\u001b[0m: 'dollar_vol_rank'"
     ]
    }
   ],
   "source": [
    "data['dollar_volume'] = (data['dollar_volume'].unstack('ticker').rolling(5*12).mean()).stack()\n",
    "data['dollar_volume'] = (data.groupby('date')['dollar_volume'].rank(ascending=False))\n",
    "data = data[data['dollar_vol_rank']<150].drop(['dollar_volume', 'dollar_vol_rank'], axis=1)\n",
    "# dollar_vol_rank doesnt exist #"
   ]
  },
  {
   "cell_type": "code",
   "execution_count": null,
   "id": "fcac3914-16b1-4a1a-b039-0e3620b42707",
   "metadata": {},
   "outputs": [],
   "source": [
    "d"
   ]
  }
 ],
 "metadata": {
  "kernelspec": {
   "display_name": "Python 3 (ipykernel)",
   "language": "python",
   "name": "python3"
  },
  "language_info": {
   "codemirror_mode": {
    "name": "ipython",
    "version": 3
   },
   "file_extension": ".py",
   "mimetype": "text/x-python",
   "name": "python",
   "nbconvert_exporter": "python",
   "pygments_lexer": "ipython3",
   "version": "3.10.11"
  }
 },
 "nbformat": 4,
 "nbformat_minor": 5
}
