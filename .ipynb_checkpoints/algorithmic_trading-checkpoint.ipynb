{
 "cells": [
  {
   "cell_type": "code",
   "execution_count": 1,
   "id": "311b06b5-2ad6-4901-ab47-c30ae6a7ab6b",
   "metadata": {},
   "outputs": [],
   "source": [
    "from statsmodels.regression.rolling import RollingOLS \n",
    "import  pandas as pd\n",
    "import  numpy as np\n",
    "import  matplotlib.pyplot as plt\n",
    "import  statsmodels.api as sm\n",
    "import  pandas_datareader.data as web\n",
    "import  datetime as dt\n",
    "import  yfinance as yf\n",
    "import  pandas_ta\n",
    "import  warnings\n",
    "warnings.filterwarnings(\"ignore\")"
   ]
  },
  {
   "cell_type": "code",
   "execution_count": 2,
   "id": "9f6441d4-7545-4bff-a938-ba2da18cfe25",
   "metadata": {},
   "outputs": [
    {
     "name": "stdout",
     "output_type": "stream",
     "text": [
      "RangeIndex(start=0, stop=6, step=1)\n",
      "Outer Index: 0\n",
      "Inner Index: 1\n",
      "Inner Index: 2\n",
      "Inner Index: 5\n",
      "Outer Index: 6\n"
     ]
    }
   ],
   "source": [
    "import pandas as pd\n",
    "\n",
    "# Create a DataFrame\n",
    "data = {'column1': [1, 2, 3, 4, 5, 6, 7], 'column2': ['a', 'b', 'c', 'd', 'e', 'f', 'g']}\n",
    "df = pd.DataFrame(data)\n",
    "start_index = 0  # Initialize the start index for the inner loop\n",
    "outer_indexes =df.column1[0:6].index\n",
    "print(outer_indexes)\n",
    "# Iterate through the specified indices of column1 and column2 in a nested loop\n",
    "for outer_index in [0,6]:\n",
    "    print(\"Outer Index:\", outer_index)\n",
    "    for inner_index in range(start_index, len(df['column2'])):\n",
    "        if inner_index in [1, 2, 5, 7]:\n",
    "            print(\"Inner Index:\", inner_index)\n",
    "            # Perform operations with the values if needed\n",
    "    start_index = inner_index + 1  # Update the start index for the next iteration"
   ]
  },
  {
   "cell_type": "code",
   "execution_count": 3,
   "id": "67326f99-bbd1-43ab-8950-5f8d402f5a83",
   "metadata": {},
   "outputs": [
    {
     "name": "stderr",
     "output_type": "stream",
     "text": [
      "[*********************100%%**********************]  503 of 503 completed\n",
      "\n",
      "2 Failed downloads:\n",
      "['VLTO', 'KVUE']: Exception(\"%ticker%: Data doesn't exist for startDate = 1422075600, endDate = 1674363600\")\n"
     ]
    },
    {
     "name": "stdout",
     "output_type": "stream",
     "text": [
      "Price              Adj Close      Close       High        Low       Open  \\\n",
      "Date       Ticker                                                          \n",
      "2015-01-26 A       36.304657  39.150002  39.169998  38.470001  38.790001   \n",
      "           AAL     52.539066  55.450001  56.200001  54.730000  55.889999   \n",
      "           AAPL    25.310122  28.275000  28.590000  28.200001  28.434999   \n",
      "           ABBV    42.971256  62.830002  63.040001  61.680000  62.259998   \n",
      "           ABT     37.234196  44.150002  44.200001  43.419998  43.740002   \n",
      "\n",
      "Price                   Volume  \n",
      "Date       Ticker               \n",
      "2015-01-26 A         1510900.0  \n",
      "           AAL      13353900.0  \n",
      "           AAPL    222460000.0  \n",
      "           ABBV      8181100.0  \n",
      "           ABT       4376200.0  \n"
     ]
    }
   ],
   "source": [
    "sp500 = pd.read_html('https://en.wikipedia.org/wiki/List_of_S%26P_500_companies')\n",
    "sp500[0]['Symbol'] = sp500[0]['Symbol'].str.replace('.', '-')\n",
    "sp500_list = sp500[0]['Symbol'].unique().tolist()\n",
    "\n",
    "end_date = '2023-01-22'\n",
    "start_date = pd.to_datetime(end_date) - pd.DateOffset(365*8)\n",
    "df = yf.download(tickers=sp500_list, start=start_date, end=end_date).stack()\n",
    "print(df.head(5))"
   ]
  },
  {
   "cell_type": "code",
   "execution_count": 4,
   "id": "e49057fd-81de-40c5-8f90-ae4633d4d8ac",
   "metadata": {},
   "outputs": [
    {
     "data": {
      "text/html": [
       "<div>\n",
       "<style scoped>\n",
       "    .dataframe tbody tr th:only-of-type {\n",
       "        vertical-align: middle;\n",
       "    }\n",
       "\n",
       "    .dataframe tbody tr th {\n",
       "        vertical-align: top;\n",
       "    }\n",
       "\n",
       "    .dataframe thead th {\n",
       "        text-align: right;\n",
       "    }\n",
       "</style>\n",
       "<table border=\"1\" class=\"dataframe\">\n",
       "  <thead>\n",
       "    <tr style=\"text-align: right;\">\n",
       "      <th></th>\n",
       "      <th></th>\n",
       "      <th>adj close</th>\n",
       "      <th>close</th>\n",
       "      <th>high</th>\n",
       "      <th>low</th>\n",
       "      <th>open</th>\n",
       "      <th>volume</th>\n",
       "    </tr>\n",
       "    <tr>\n",
       "      <th>date</th>\n",
       "      <th>ticker</th>\n",
       "      <th></th>\n",
       "      <th></th>\n",
       "      <th></th>\n",
       "      <th></th>\n",
       "      <th></th>\n",
       "      <th></th>\n",
       "    </tr>\n",
       "  </thead>\n",
       "  <tbody>\n",
       "    <tr>\n",
       "      <th rowspan=\"5\" valign=\"top\">2015-01-26</th>\n",
       "      <th>A</th>\n",
       "      <td>36.304657</td>\n",
       "      <td>39.150002</td>\n",
       "      <td>39.169998</td>\n",
       "      <td>38.470001</td>\n",
       "      <td>38.790001</td>\n",
       "      <td>1510900.0</td>\n",
       "    </tr>\n",
       "    <tr>\n",
       "      <th>AAL</th>\n",
       "      <td>52.539066</td>\n",
       "      <td>55.450001</td>\n",
       "      <td>56.200001</td>\n",
       "      <td>54.730000</td>\n",
       "      <td>55.889999</td>\n",
       "      <td>13353900.0</td>\n",
       "    </tr>\n",
       "    <tr>\n",
       "      <th>AAPL</th>\n",
       "      <td>25.310122</td>\n",
       "      <td>28.275000</td>\n",
       "      <td>28.590000</td>\n",
       "      <td>28.200001</td>\n",
       "      <td>28.434999</td>\n",
       "      <td>222460000.0</td>\n",
       "    </tr>\n",
       "    <tr>\n",
       "      <th>ABBV</th>\n",
       "      <td>42.971256</td>\n",
       "      <td>62.830002</td>\n",
       "      <td>63.040001</td>\n",
       "      <td>61.680000</td>\n",
       "      <td>62.259998</td>\n",
       "      <td>8181100.0</td>\n",
       "    </tr>\n",
       "    <tr>\n",
       "      <th>ABT</th>\n",
       "      <td>37.234196</td>\n",
       "      <td>44.150002</td>\n",
       "      <td>44.200001</td>\n",
       "      <td>43.419998</td>\n",
       "      <td>43.740002</td>\n",
       "      <td>4376200.0</td>\n",
       "    </tr>\n",
       "  </tbody>\n",
       "</table>\n",
       "</div>"
      ],
      "text/plain": [
       "                   adj close      close       high        low       open  \\\n",
       "date       ticker                                                          \n",
       "2015-01-26 A       36.304657  39.150002  39.169998  38.470001  38.790001   \n",
       "           AAL     52.539066  55.450001  56.200001  54.730000  55.889999   \n",
       "           AAPL    25.310122  28.275000  28.590000  28.200001  28.434999   \n",
       "           ABBV    42.971256  62.830002  63.040001  61.680000  62.259998   \n",
       "           ABT     37.234196  44.150002  44.200001  43.419998  43.740002   \n",
       "\n",
       "                        volume  \n",
       "date       ticker               \n",
       "2015-01-26 A         1510900.0  \n",
       "           AAL      13353900.0  \n",
       "           AAPL    222460000.0  \n",
       "           ABBV      8181100.0  \n",
       "           ABT       4376200.0  "
      ]
     },
     "execution_count": 4,
     "metadata": {},
     "output_type": "execute_result"
    }
   ],
   "source": [
    "df.columns = ['adj close', 'close', 'high', 'low', 'open', 'volume']  \n",
    "df.index.names = ['date', 'ticker']\n",
    "df.head(5)"
   ]
  },
  {
   "cell_type": "code",
   "execution_count": 5,
   "id": "32405395-9824-4a39-8c3c-773f32f52318",
   "metadata": {},
   "outputs": [],
   "source": [
    "df['garman_klass_vol'] = ((np.log(df['high'])-np.log(df['low']))**2)/2-(2*np.log(2)-1)*((np.log(df['adj close'])-np.log(df['open']))**2)\n",
    "\n",
    "df['rsi'] = df.groupby(level=1)['adj close'].transform(lambda x: pandas_ta.rsi(close=x, length=20))\n",
    "\n",
    "df['bb_low'] = df.groupby(level=1)['adj close'].transform(lambda x: pandas_ta.bbands(close=np.log1p(x), length=20).iloc[:,0])\n",
    "                                                          \n",
    "df['bb_mid'] = df.groupby(level=1)['adj close'].transform(lambda x: pandas_ta.bbands(close=np.log1p(x), length=20).iloc[:,1])\n",
    "                                                          \n",
    "df['bb_high'] = df.groupby(level=1)['adj close'].transform(lambda x: pandas_ta.bbands(close=np.log1p(x), length=20).iloc[:,2])\n"
   ]
  },
  {
   "cell_type": "code",
   "execution_count": 6,
   "id": "1dfa7a9a-6248-4023-bd5b-fa58f5e97882",
   "metadata": {},
   "outputs": [
    {
     "data": {
      "text/plain": [
       "date        ticker\n",
       "2015-01-26  A          39.150002\n",
       "            AAL        55.450001\n",
       "            AAPL       28.275000\n",
       "            ABBV       62.830002\n",
       "            ABT        44.150002\n",
       "                         ...    \n",
       "2023-01-20  YUM       126.629997\n",
       "            ZBH       124.089996\n",
       "            ZBRA      297.029999\n",
       "            ZION       51.480000\n",
       "            ZTS       163.809998\n",
       "Name: close, Length: 989448, dtype: float64"
      ]
     },
     "execution_count": 6,
     "metadata": {},
     "output_type": "execute_result"
    }
   ],
   "source": [
    "df['close'].dropna()"
   ]
  },
  {
   "cell_type": "code",
   "execution_count": 7,
   "id": "1abbe3e2-d9c8-4a3d-8e79-650b28297534",
   "metadata": {},
   "outputs": [],
   "source": [
    "def compute_atr(stock_data):\n",
    "    atr = pandas_ta.atr(high=stock_data['high'],\n",
    "                        low=stock_data['low'],\n",
    "                        close=stock_data['close'],\n",
    "                        length=14)\n",
    "    return atr.sub(atr.mean()).div(atr.std())\n",
    "\n",
    "df['atr'] = df.groupby(level=1, group_keys=False).apply(compute_atr)\n",
    "\n",
    "def compute_macd(close):\n",
    "    macd_result = pandas_ta.macd(close=close, length=20)\n",
    "    \n",
    "    if macd_result is not None:\n",
    "        macd = macd_result.iloc[:, 0]\n",
    "        return macd.sub(macd.mean()).div(macd.std())\n",
    "    else:\n",
    "        # Handle the case where macd_result is None\n",
    "        return None\n",
    "\n",
    "df['macd'] = df.groupby(level=1, group_keys=False)['adj close'].apply(compute_macd)\n",
    "\n",
    "mean_volume = np.mean(df['volume'])\n",
    "df['dollar_volume'] = (df['close'] * df['volume'] / mean_volume).astype(int)\n"
   ]
  },
  {
   "cell_type": "code",
   "execution_count": 8,
   "id": "889d0379-6b01-4148-a1d0-ee187cf24361",
   "metadata": {},
   "outputs": [
    {
     "data": {
      "text/plain": [
       "date        ticker\n",
       "2015-01-26  A           11\n",
       "            AAL        143\n",
       "            AAPL      1220\n",
       "            ABBV        99\n",
       "            ABT         37\n",
       "                      ... \n",
       "2023-01-20  YUM         40\n",
       "            ZBH         41\n",
       "            ZBRA        17\n",
       "            ZION        24\n",
       "            ZTS        154\n",
       "Name: dollar_volume, Length: 989448, dtype: int32"
      ]
     },
     "execution_count": 8,
     "metadata": {},
     "output_type": "execute_result"
    }
   ],
   "source": [
    "df['dollar_volume']"
   ]
  },
  {
   "cell_type": "markdown",
   "id": "d208d67c-8d68-4dd4-b2aa-2b16068e9675",
   "metadata": {},
   "source": [
    "# 3 Aggregate to monthly level and filter top 150 most liquid stocks each month"
   ]
  },
  {
   "cell_type": "code",
   "execution_count": 33,
   "id": "c5c3b816-6b10-4419-957c-b434450bfb2a",
   "metadata": {},
   "outputs": [
    {
     "ename": "AttributeError",
     "evalue": "'DataFrame' object has no attribute 'concat'",
     "output_type": "error",
     "traceback": [
      "\u001b[1;31m---------------------------------------------------------------------------\u001b[0m",
      "\u001b[1;31mAttributeError\u001b[0m                            Traceback (most recent call last)",
      "\u001b[1;32m~\\AppData\\Local\\Temp\\ipykernel_14544\\508048471.py\u001b[0m in \u001b[0;36m?\u001b[1;34m()\u001b[0m\n\u001b[0;32m      1\u001b[0m \u001b[1;31m#last_cols = [c for c in df.columns.unique(0) if c not in ['open', 'dollar_volume', 'close', 'high', 'open', 'low']]\u001b[0m\u001b[1;33m\u001b[0m\u001b[1;33m\u001b[0m\u001b[0m\n\u001b[1;32m----> 2\u001b[1;33m df.concat([df.unstack('ticker')['dollar_volume'].resample('M').mean().stack('ticker').to_frame('dollar_volume'),\n\u001b[0m\u001b[0;32m      3\u001b[0m             df.unstack()[last_cols].resample('M').last().stack('ticker')],\n\u001b[0;32m      4\u001b[0m          axis=1)\n",
      "\u001b[1;32mC:\\algorithmic-trading\\venv\\lib\\site-packages\\pandas\\core\\generic.py\u001b[0m in \u001b[0;36m?\u001b[1;34m(self, name)\u001b[0m\n\u001b[0;32m   6289\u001b[0m             \u001b[1;32mand\u001b[0m \u001b[0mname\u001b[0m \u001b[1;32mnot\u001b[0m \u001b[1;32min\u001b[0m \u001b[0mself\u001b[0m\u001b[1;33m.\u001b[0m\u001b[0m_accessors\u001b[0m\u001b[1;33m\u001b[0m\u001b[1;33m\u001b[0m\u001b[0m\n\u001b[0;32m   6290\u001b[0m             \u001b[1;32mand\u001b[0m \u001b[0mself\u001b[0m\u001b[1;33m.\u001b[0m\u001b[0m_info_axis\u001b[0m\u001b[1;33m.\u001b[0m\u001b[0m_can_hold_identifiers_and_holds_name\u001b[0m\u001b[1;33m(\u001b[0m\u001b[0mname\u001b[0m\u001b[1;33m)\u001b[0m\u001b[1;33m\u001b[0m\u001b[1;33m\u001b[0m\u001b[0m\n\u001b[0;32m   6291\u001b[0m         ):\n\u001b[0;32m   6292\u001b[0m             \u001b[1;32mreturn\u001b[0m \u001b[0mself\u001b[0m\u001b[1;33m[\u001b[0m\u001b[0mname\u001b[0m\u001b[1;33m]\u001b[0m\u001b[1;33m\u001b[0m\u001b[1;33m\u001b[0m\u001b[0m\n\u001b[1;32m-> 6293\u001b[1;33m         \u001b[1;32mreturn\u001b[0m \u001b[0mobject\u001b[0m\u001b[1;33m.\u001b[0m\u001b[0m__getattribute__\u001b[0m\u001b[1;33m(\u001b[0m\u001b[0mself\u001b[0m\u001b[1;33m,\u001b[0m \u001b[0mname\u001b[0m\u001b[1;33m)\u001b[0m\u001b[1;33m\u001b[0m\u001b[1;33m\u001b[0m\u001b[0m\n\u001b[0m",
      "\u001b[1;31mAttributeError\u001b[0m: 'DataFrame' object has no attribute 'concat'"
     ]
    }
   ],
   "source": [
    "#last_cols = [c for c in df.columns.unique(0) if c not in ['open', 'dollar_volume', 'close', 'high', 'open', 'low']]\n",
    "df.concat([df.unstack('ticker')['dollar_volume'].resample('M').mean().stack('ticker').to_frame('dollar_volume'),\n",
    "            df.unstack()[last_cols].resample('M').last().stack('ticker')],\n",
    "         axis=1)\n",
    "## Bug: AttributeError: 'DataFrame' object has no attribute 'concat' ##\n"
   ]
  },
  {
   "cell_type": "code",
   "execution_count": 28,
   "id": "df00a3b3-689a-42d4-a684-bfec25d76cc5",
   "metadata": {},
   "outputs": [
    {
     "data": {
      "text/plain": [
       "['adj close',\n",
       " 'volume',\n",
       " 'garman_klass_vol',\n",
       " 'rsi',\n",
       " 'bb_low',\n",
       " 'bb_mid',\n",
       " 'bb_high',\n",
       " 'atr',\n",
       " 'macd']"
      ]
     },
     "execution_count": 28,
     "metadata": {},
     "output_type": "execute_result"
    }
   ],
   "source": [
    "last_cols"
   ]
  },
  {
   "cell_type": "code",
   "execution_count": null,
   "id": "943c0ba0-4d6b-4409-8fe7-8edc862986c8",
   "metadata": {},
   "outputs": [],
   "source": []
  }
 ],
 "metadata": {
  "kernelspec": {
   "display_name": "Python 3 (ipykernel)",
   "language": "python",
   "name": "python3"
  },
  "language_info": {
   "codemirror_mode": {
    "name": "ipython",
    "version": 3
   },
   "file_extension": ".py",
   "mimetype": "text/x-python",
   "name": "python",
   "nbconvert_exporter": "python",
   "pygments_lexer": "ipython3",
   "version": "3.10.11"
  }
 },
 "nbformat": 4,
 "nbformat_minor": 5
}
