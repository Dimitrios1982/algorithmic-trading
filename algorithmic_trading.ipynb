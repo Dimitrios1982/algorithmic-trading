{
 "cells": [
  {
   "cell_type": "code",
   "execution_count": 1,
   "id": "311b06b5-2ad6-4901-ab47-c30ae6a7ab6b",
   "metadata": {},
   "outputs": [],
   "source": [
    "from statsmodels.regression.rolling import RollingOLS \n",
    "import  pandas as pd\n",
    "import  numpy as np\n",
    "import  matplotlib.pyplot as plt\n",
    "import  statsmodels.api as sm\n",
    "import  pandas_datareader.data as web\n",
    "import  datetime as dt\n",
    "import  yfinance as yf\n",
    "import  pandas_ta\n",
    "import  warnings\n",
    "warnings.filterwarnings(\"ignore\")"
   ]
  },
  {
   "cell_type": "code",
   "execution_count": 50,
   "id": "67326f99-bbd1-43ab-8950-5f8d402f5a83",
   "metadata": {},
   "outputs": [
    {
     "name": "stderr",
     "output_type": "stream",
     "text": [
      "[*********************100%%**********************]  503 of 503 completed\n",
      "\n",
      "2 Failed downloads:\n",
      "['KVUE', 'VLTO']: Exception(\"%ticker%: Data doesn't exist for startDate = 1422075600, endDate = 1674363600\")\n"
     ]
    },
    {
     "name": "stdout",
     "output_type": "stream",
     "text": [
      "Price              Adj Close      Close       High        Low       Open  \\\n",
      "Date       Ticker                                                          \n",
      "2015-01-26 A       36.304672  39.150002  39.169998  38.470001  38.790001   \n",
      "           AAL     52.539070  55.450001  56.200001  54.730000  55.889999   \n",
      "           AAPL    25.310122  28.275000  28.590000  28.200001  28.434999   \n",
      "           ABBV    42.971260  62.830002  63.040001  61.680000  62.259998   \n",
      "           ABT     37.234188  44.150002  44.200001  43.419998  43.740002   \n",
      "\n",
      "Price                   Volume  \n",
      "Date       Ticker               \n",
      "2015-01-26 A         1510900.0  \n",
      "           AAL      13353900.0  \n",
      "           AAPL    222460000.0  \n",
      "           ABBV      8181100.0  \n",
      "           ABT       4376200.0  \n"
     ]
    }
   ],
   "source": [
    "sp500 = pd.read_html('https://en.wikipedia.org/wiki/List_of_S%26P_500_companies')\n",
    "sp500[0]['Symbol'] = sp500[0]['Symbol'].str.replace('.', '-')\n",
    "sp500_list = sp500[0]['Symbol'].unique().tolist()\n",
    "\n",
    "end_date = '2023-01-22'\n",
    "start_date = pd.to_datetime(end_date) - pd.DateOffset(365*8)\n",
    "df = yf.download(tickers=sp500_list, start=start_date, end=end_date).stack()\n",
    "print(df.head(5))"
   ]
  },
  {
   "cell_type": "code",
   "execution_count": 49,
   "id": "e49057fd-81de-40c5-8f90-ae4633d4d8ac",
   "metadata": {},
   "outputs": [
    {
     "data": {
      "text/plain": [
       "Index(['Adj Close', 'Close', 'High', 'Low', 'Open', 'Volume'], dtype='object', name='Price')"
      ]
     },
     "execution_count": 49,
     "metadata": {},
     "output_type": "execute_result"
    }
   ],
   "source": [
    "\n",
    "#df.index.names = ['Name', 'Ticker']\n",
    "df.columns"
   ]
  },
  {
   "cell_type": "code",
   "execution_count": null,
   "id": "32405395-9824-4a39-8c3c-773f32f52318",
   "metadata": {},
   "outputs": [],
   "source": []
  }
 ],
 "metadata": {
  "kernelspec": {
   "display_name": "Python 3 (ipykernel)",
   "language": "python",
   "name": "python3"
  },
  "language_info": {
   "codemirror_mode": {
    "name": "ipython",
    "version": 3
   },
   "file_extension": ".py",
   "mimetype": "text/x-python",
   "name": "python",
   "nbconvert_exporter": "python",
   "pygments_lexer": "ipython3",
   "version": "3.10.11"
  }
 },
 "nbformat": 4,
 "nbformat_minor": 5
}
